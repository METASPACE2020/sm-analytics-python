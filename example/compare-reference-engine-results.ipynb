{
 "cells": [
  {
   "cell_type": "code",
   "execution_count": 1,
   "metadata": {
    "collapsed": false
   },
   "outputs": [
    {
     "name": "stderr",
     "output_type": "stream",
     "text": [
      "/Users/palmer/miniconda2/envs/py27/lib/python2.7/site-packages/matplotlib/font_manager.py:273: UserWarning: Matplotlib is building the font cache using fc-list. This may take a moment.\n  warnings.warn('Matplotlib is building the font cache using fc-list. This may take a moment.')\n"
     ]
    },
    {
     "ename": "ImportError",
     "evalue": "No module named sm_annotation_utils",
     "traceback": [
      "\u001b[0;31m---------------------------------------------------------------------------\u001b[0m",
      "\u001b[0;31mImportError\u001b[0m                               Traceback (most recent call last)",
      "\u001b[0;32m<ipython-input-1-b06230fa5282>\u001b[0m in \u001b[0;36m<module>\u001b[0;34m()\u001b[0m\n\u001b[1;32m      5\u001b[0m \u001b[0;32mimport\u001b[0m \u001b[0myaml\u001b[0m\u001b[0;34m\u001b[0m\u001b[0m\n\u001b[1;32m      6\u001b[0m \u001b[0;32mimport\u001b[0m \u001b[0mpandas\u001b[0m \u001b[0;32mas\u001b[0m \u001b[0mpd\u001b[0m\u001b[0;34m\u001b[0m\u001b[0m\n\u001b[0;32m----> 7\u001b[0;31m \u001b[0;32mfrom\u001b[0m \u001b[0msm_annotation_utils\u001b[0m \u001b[0;32mimport\u001b[0m \u001b[0msm_annotation_utils\u001b[0m\u001b[0;34m\u001b[0m\u001b[0m\n\u001b[0m\u001b[1;32m      8\u001b[0m \u001b[0;32mimport\u001b[0m \u001b[0mmatplotlib\u001b[0m\u001b[0;34m.\u001b[0m\u001b[0mpyplot\u001b[0m \u001b[0;32mas\u001b[0m \u001b[0mplt\u001b[0m\u001b[0;34m\u001b[0m\u001b[0m\n",
      "\u001b[0;31mImportError\u001b[0m: No module named sm_annotation_utils"
     ],
     "output_type": "error"
    }
   ],
   "source": [
    "%load_ext autoreload\n",
    "%autoreload 2\n",
    "%matplotlib notebook\n",
    "import numpy as np\n",
    "import yaml\n",
    "import pandas as pd\n",
    "from sm_annotation_utils import sm_annotation_utils\n",
    "import matplotlib.pyplot as plt"
   ]
  },
  {
   "cell_type": "code",
   "execution_count": null,
   "metadata": {
    "collapsed": false
   },
   "outputs": [],
   "source": [
    ""
   ]
  },
  {
   "cell_type": "markdown",
   "metadata": {},
   "source": [
    "### SM dist results"
   ]
  },
  {
   "cell_type": "code",
   "execution_count": 19,
   "metadata": {
    "collapsed": false
   },
   "outputs": [],
   "source": [
    "# Results obtained from the sm-engine\n",
    "config = 'config.yml'\n",
    "dataset_name = \"MBa2s1\"\n",
    "remote_instance = sm_annotation_utils.SMInstance(config)\n",
    "remote_results = remote_instance.dataset(dataset_name)\n",
    "remote_df = remote_results.results()"
   ]
  },
  {
   "cell_type": "markdown",
   "metadata": {},
   "source": [
    "### Ref pipeline results"
   ]
  },
  {
   "cell_type": "code",
   "execution_count": 20,
   "metadata": {
    "collapsed": false
   },
   "outputs": [],
   "source": [
    "# Results obtained from pySM reference implementation\n",
    "ref_file = '/home/palmer/Documents/tmp_data/MBnoInstrument/MB2/Bregma1-42_01/HMDB/2.5/Brain02_Bregma1-42_01_spatial_all_adducts_full_results.txt'\n",
    "reference_results = pd.read_csv(ref_file).dropna()\n",
    "reference_results = reference_results[reference_results.adduct.isin(['+H', '+Na', '+K'])].set_index(['sf', 'adduct'])\n",
    "#reference_results['msm'] = reference_results[['moc','spat','spec']].prod(axis=1)"
   ]
  },
  {
   "cell_type": "markdown",
   "metadata": {},
   "source": [
    "### Plotting"
   ]
  },
  {
   "cell_type": "code",
   "execution_count": 21,
   "metadata": {
    "collapsed": false
   },
   "outputs": [
    {
     "data": {
      "text/plain": [
       "<IPython.core.display.Javascript object>"
      ]
     },
     "metadata": {},
     "output_type": "display_data"
    },
    {
     "data": {
      "text/html": [
       "<img src=\"data:image/png;base64,iVBORw0KGgoAAAANSUhEUgAAAoAAAAHgCAYAAAA10dzkAAAfrklEQVR4nO3db4hl50HH8d8ksx4Tm220WZUm94JSKHa1+kIpGElFNIJaX4gQNYoKgi+mIKOt1BfDJgipL0oRwTfFolQLLVIUrrVTBYmCgiiICr4oGlq2NW2KbTdpi6LJ8cWZmz1z996ZufvcO/f8+XzgkJ27d4ZDz+zMt8/znOckAAAAAAAAAAAAAAAAAAAAAAAAAAAAAAAAAAAAAAAAAAAAAAAAAAAAAAAAAAAAAAAAAAAAAAAAAAAAAAAAAAAAAAAAAAAAAAAAAAAAAAAAAAAAAAAAAAAAAAAAAAAAAAAAAAAAAAAAAAAAAEBPPZHkb5LcSvJyknvOef+DST6Y5EtJvpDkD5O8dpsnCADAZv1Qmgj8xVwsAD+a5C+SfH2Sb0jyl0n+dJsnCADAdrw15wfgNMkrSb699dqbT157ZHunBgDANlwkAH88yVeXvP7fSX5sGycFAMD2XCQAfzbJ80te/2ySn1ny+l6Sh5NcdTgcDofD0avj4TS/xxm4bYwAPpykdjgcDofD0cvj4TB4b83F1gC+nNNrAL/z5LVlawCvJqlv3rxZ37p1y7Hj4+DgYOfn4HAtuni4Ht05XItuHDdv3pwH4NXNJAZddE+SKsnjaULu/pOPVw37zpIcJ3ldkofS3AX8JyveezVJfevWrZrdOzw83PUpcMK16BbXoztci8sxm9X19evNMZvd+fe3bt0SgCPw82nu4n355Jj/+bEkkyQvJXm09f4Hk/xRmn0Av5jkA1n9DSIAO8QP1u5wLbrF9egO1+JyXL9e10lzXL9+598LQEoJwA45Pj7e9SlwwrXoFtejO1yL7ZvN6rqqBCDbJQABoAPm077t+Kuquv6zP7vzvQKQUgIQADqgPe171uhfXQtAyglAAOiAxQBcNfpX1wKQcgIQADrgImv/5gQgpQQgAHREe/uXVaN/dS0AKScAAaBnBCClBCAA9IwApJQABICeEYCUEoAA0DMCkFICEAB6RgBSSgACwJbMZnU9nTbbu0wmzcebIAApJQABYEsWN3c+a2+/dQhASglAANiwZc/1FYB0iQAEgA2YR990Wtf7+7ej78qV21PAZ23uvA4BSCkBCAAbsDjdu+lRvzYBSCkBCACFFp/jOz+qanOjfm0CkFICEAAKtUf/9veb6d7znudbQgBSSgACQKF2AG5jyneRAKSUAASAQvMbQLY56tcmACklAAHggtqht6lNne+GAKSUAASAC7rsqd5VBCClBCAAnGPZxs4CkD4TgABwjvbIX1Vd3lq/VQQgpQQgAJyjK1O/cwKQUgIQAM5x2Xf5nkcAUkoAAkDPCEBKCUAA6BkBSCkBCAA9IwApJQABoGcEIKUEIACj1ZUne6xLAFJKAAIwWl3b3uWiBCClBCAAoyUAGSsBCMBodW1/v4sSgJQSgACMQl/X+y0jACklAAEYhb5O9y4jACklAAEYBQEItwlAAEahr+v9lhGAlBKAAAzKbFbXk0ldV1VdT6f9X++3jACklAAEYFDaU71DmO5dRgBSSgACMBizWTPyJwDhbAIQgMFoj/7t7TVTwH1f77eMAKSUAARgMIZ0p+9ZBCClBCAAgzGkO33PIgApJQAB6J0hPdXjbghASglAAHpnLFO9qwhASglAAHpHAApAyghAAHpnLGv9VhGAlBKAANAzApBSAhAAekYAUkoAAtBJY7/T9ywCkFICEIDOWXyk2xhv9DiLAKSUAASgc9p3+QrAOwlASglAADqnHYBVNc47fc8iACklAAHYmdmsrq9dq+u9vbre36/ro6Pbr495m5fzCEBKCUAAdmZxqreqdn1G/SAAKSUAAdgZAXh3BCClBCAAl24+xTuZ1PXVq7engG/c2PWZ9YMApJQABODSjf1ZvqUEIKUEIACXon1jx2QiAEsIQEoJQAAuRXvUbzp1l28JAUgpAQjApTDtuzkCkFICEIBLYW+/zRGAlBKAANAzApBSAhAAekYAUkoAAkDPCEBKCUAA1tZezzeb3fkx2yUAx+PpJJ9J8lKSZ5NcP+O9353kr5J8IckLST6SZLrivQIQgLUt3tHrDt/LJQDH4Z1JPpXkTUmqJM8k+XSS+5e8dy/J55K8N8l+kq9L8uEkf7viawtAANYmAHdLAI7Dc0ne3vr43jSR9+SS9z6Y5OUk39F67UeTfGXF1xaAAKxtcUsXW7xcLgE4fFeTvJLkLQuvfzzJe1Z8zu+cHPelCcI/TvKBM76+AASAHhGAw/dImgB848LrH0ryvhWf81iSf0vyv0n+L8k/Jrm24r0CEAB6RgAO37ojgG9I8j9JfjnJlTSjgE8n+feTPy/7+gIQAHpEAI7DsjWAL2T5GsCfSPLFhdceSBOR37Pk/VeT1AcHB/Xh4WF9eHhYHx8f7/r7GoAdsZ1Ldx0fH7/6u/rg4EAAjsA7knwyzdYv9yV5d5KbWX4X8DTNDR+/lCYUvzbJjSS3krx2yfuNAALwKnfz9oMRwPF4KsnzSb6c0/sATtLsDfho670/mOTv0uwD+F8n7/++FV9XAALwqnYATqdGA7tKAFJKAALwqvYU8GRiNLCrBCClBCAAS5kO7i4BSCkBCMBSNnfuLgFIKQEIMGLu+u0nAUgpAQgwYu1p3qoSgX0hACklAAFGrB2A1vr1hwCklAAEGLHZrBn5E4D9IgApJQABRmq+/m86bbZ8cbNHfwhASglAgJGyzUt/CUBKCUCAkRKA/SUAKSUAAQboItu72OevvwQgpQQgwAAZ3Rs2AUgpAQgwQPb3GzYBSCkBCDBAtncZNgFIKQEIMCDtdX3TqQAcKgFIKQEIMCDtqd/53n5u8hgeAUgpAQjQc+1Rv8nEqN8YCEBKCUCAnmuP+k2nRv3GQABSSgAC9Miyx7dZ6zc+ApBSAhCgR9qjfdb6jZcApJQABOiR9mifUb/xEoCUEoAAPdK+yWN/36jfWAlASglAgB7xiDfqWgBSTgAC9Eh7yxcjf+MlACklAAGgZwQgpQQgUNf16ZGl2WzXZwOcRQBSSgACdV1bWwZ9IgApJQCBuq4FIPSJAKSUAATqunZzAfSJAKSUAATYIWsvuRsCkFICEGCHTL1zNwQgpQQgwA4JQO6GAKSUAATYIWsvuRsCkFICEAB6RgBSSgACbNF8hG8yqevp1M0ebIYApJQABNii9ho/a/3YFAFIKQEIsCVHR3W9tycA2TwBSCkBCLAlVXU6/OZTwG72oJQApJQABNiSdgBW1a7PhiERgJQSgABbcnTUhF9V1fWNG7s+G4ZEAFJKAAJskUe9sQ0CkFICEGCLPOmDbRCAlBKAAFskANkGAUgpAQiwpnU2d/aoN7ZBAFJKAAKsaTKxtx+7JQApJQAB1rS4v58A5LIJQEoJQIA1Tae3w+/KFdO7XD4BSCkBCLAm6/rYNQFIKQEIsII9/OgqAUgpAQiwgi1c6CoBSCkBCLCCAKSrBCClBCDACtb60VUCkFICEKBuYm86bbZ4mUys+aPbBCClBCAwakdHTfTt7dnXj/4QgJQSgMCoLdvUWQDSdQKQUgIQGJXFrV0WA3A+BWzNH10mACklAIFRWbyzdz4FXFV1fePGrs8OLkYAUkoAAqMwv8mjvdavqtzsQT8JQEoJQGAwznpyR3vkz1o/+k4AUkoAAoNx1sbN164JQIZDAFJKAAKDcVYA7u+fDr/p1AbP9JcApJQABAbjrCd3tO/2rardnB9sigCklAAEBmfZWkB3+zIkApBSAhAYnLOmgmEIBCClBCAwOAKQoROAlBKAwOCctRYQhkAAUkoAAr111r5/MGQCkFICEOgtU72MlQAcj6eTfCbJS0meTXL9nPf/QpJ/SfLlJJ9N8tsr3icAgd4SgIyVAByHdyb5VJI3JamSPJPk00nuX/H+X0vyH0m+N8k9Se5L8l0r3isAgV5pT/seHVnrxzgJwHF4LsnbWx/fm+RzSZ5c8t4H0owS/sgFv7YABHrFqB8IwDG4muSVJG9ZeP3jSd6z5P0/nOTlJL+a5BNppn8/luTNZ3x9AQj0hgAEATgGj6QJwDcuvP6hJO9b8v4nT97/10m+Oc2U8W8l+c80o4OLBCDQK7Z4AQE4BuuOAL7t5P2Pt167J8lX0owOLvv6AhAAekQAjsOyNYAvZPkawPmI4eML7z8zAA8ODurDw8P68PCwPj4+3vX3NYA9/mDB8fHxq7+rDw4OBOAIvCPJJ9Ns/XJfkncnuZnVdwF/JM1WMd+Y23cN30zymiXvNQIIdJK1frCaEcDxeCrJ82n29Xs2t/cBnKS56/fR1ntfk+T3knwhyeeT/HmaLWSWEYBAp8xH/qpKAMIqApBSAhDolPbIX1W52QOWEYCUEoBAp5j6hfMJQEoJQKBTbPMC5xOAlBKAANAzApBSAhAAekYAUkoAApfCvn6wOQKQUgIQ2Jp29E2nbu6ATRGAlBKAwNYsbukiAGEzBCClBCCwNe0AnEzc3QubIgApJQCBrbGlC2yHAKSUAASAnhGAlBKAwEa52xe2TwBSSgACG+VRbrB9ApBSAhAosjjiJwBh+wQgpQQgUGQx+Nz4AdsnACklAIEiRvzg8glASglAYG3tUb6jIyN+cNkEIKUEILA2o36wWwKQUgIQWJsAhN0SgJQSgMDa3OgBuyUAKSUAAaBnBCClBCC940kTwNgJQEoJQHrH+jNg7AQgpQQgvSMAt8foKvSDAKSUAKR33ICwPeIa+kEAUkoAAq8SgNAPApBSAhB4ldFV6AcBSCkBCCNlvR/0lwCklACEkZnN6noyqeu9PdO90FcCkFICEEamvc5PAEI/CUBKCUAYmcUArCrr/aBvBCClBCCMzHwKuKrqejoVf9BHApBSAhAAekYAUkoAAkDPCEBKCUAA6BkBSCkBCAA9IwApJQBhQI6Omps7qqr5MzBMApBSAhAGYP5Uj/bmzlW167MCtkUAUkoAwgAs29xZAMJwCUBKCUAYgHYA7u018Xfjxq7PCtgWAUgpAQgDMJ8Cvn7dxs4wBgKQUgIQAHpGAFJKAAJAzwhASglAAOgZAUgpAQgAPSMAKSUAoaPmN3ZMJnU9nTZ/ns12fVZAFwhASglA6Khle/tdv77rswK6QABSSgBCRwlAYBUBSCkBCB21bArYHn9AXQtAyglAAOgZAUgpAQgAPSMAKSUAAaBnBCClBCAA9IwApJQABICeEYCUEoAA0DMCkFICEAB6RgBSSgDCFs338vMYN2CTBCClBCBsUftpHp7iAWyKAKSUAIQtmM2aJ3js7QlAYPMEIKUEIGzB4nN8q8pj3IDNEYCUEoCwBYsBaPQP2CQBSCkBCFswnwKuqrqeTo3+AZslACklAAGgZwQgpQQgAPSMAKSUAASAnhGAlBKAANAzApBSAhAAekYAUkoAwho82g3oAgE4Hk8n+UySl5I8m+T6BT7ngSSfTPJykntWvEcAwho82g3oAgE4Du9M8qkkb0pSJXkmyaeT3H/O570/ycciAGFjBCDQBQJwHJ5L8vbWx/cm+VySJ8/4nLcl+fskPxABCBvTngK2uTOwKwJw+K4meSXJWxZe/3iS96z4nNelmfr9tiRvjQAEgEERgMP3SJoAfOPC6x9K8r4Vn/PhJL9x8mcBCHfBzR5AlwnA4Vt3BPCnkvxDbgff96cJwHvP+Pr1wcFBfXh4WB8eHtbHx8e7/r6GnbPWD+ia4+PjV39XHxwcCMARWLYG8IUsXwP4+2nuFP78yfGlNAH5QpKfW/J+I4CM3rLRPgEIdJkRwHF4R5o1fdeT3Jfk3UluZvldwK9N8vrW8ZNpRgAfOfncRQKQ0ZtMbsfeZNK85mYPoMsE4Hg8leT5JF/O6X0AJ2lG/B5d8XnWAMIS7cC7cuV2AFbVrs8M4HwCkFICkFFqT/Hu79/+83S66zMDOJ8ApJQAZHRms2akrz3ta7oX6BMBSCkByOi0R/+qSvQB/SMAKSUAGR13+AJ9JwApJQAZHXf4An0nACklAAGgZwQgpQQgAPSMAKSUAGRQZrO6fuCB22v8nnhi12cEsHkCkFICkEFpP9Ujqeu9vV2fEcDmCUBKCUAGYzZrgk8AAkMnACklABmM9vYu8+Onf3rXZwWweQKQUgKQwbDBMzAWApBSApDBsL8fMBYCkFICEAB6RgBSSgDSO+2Rvtls12cDcPkEIKUEIL3jWb7A2AlASglAOm9xxE8AAmMnACklAOm8xeC7m5s9TBsDQyIAKSUA2YhNB9bRUbOVS1XV9bVr5SN+Rg2BIRGAlBKAbMSmA6uqbn+9/f3y7V0EIDAkApBSApCN2GYAVlX517NH4PCZ5mdMBCClBCAbsenAak8B37hR/vUYPqO8jIkApJQABAZBADImApBSApCdM3XHJpjmZ0wEIKUE4Ih0NbSM3ACsRwBSSgCOSFdDq6vnBdBVApBSAnBEuhpapu4A1iMAKSUAR2TXodXVKWiAvhGAlBKAXJqujkAC9I0ApJQAZOvmI3/tzZ0FIMDdE4CUEoBsXXvkr6qs9QMoJQApJQDZOlO/AJslACklANm6Xd98AjA0ApBSArBH3EULQF0LQMoJwB4xlQpAXQtAygnAHhGAANS1AKScAOwRa+kAqGsBSDkByF2xHhFgdwQgpQQgazs6quu9PdPRALsiACklAFlb+4keAhDg8glASglALqQ95bu/fzv+9vasRwS4bAKQUgKQc81mp0f9Hnqo+biq6vrGjV2fHcD4CEBKCUDO1d5+xpQvwO4JQEoJQM7VDsCqMuULsGsCkFICkHPZfxCgWwQgpQQgd7DHH0C3CUBKCUDu4JFzAN0mACklAKnrutnceX5n77VrAhCgywQgpQTgyM2ne9tP9tjft+YPoMsEIKUE4MgtbvEyv9MXgO4SgJQSgCPXDsC9PZs7A/SBAKSUABw5W7wA9I8ApJQAHAlbuwAMhwCklAAcCVu7AAyHAKSUABy4+chfVQlAgKEQgJQSgAM3mdy5vYu1fgD9JgApJQAHatn+frZ3ARgGAUgpAThQy/b3m053fVYAbIIApJQAHKh2AFaVqV+AIRGAlBKAA2V/P4DhEoCUEoAA0DMCkFICsMdms+Yu36pq1vfZ4BlgHAQgpQRgDy3b28/+fgDjIQApJQB7aDq98w5fAQgwHgKQUgKwZ2az03v7ze/ynU7d7AEwFgKQUgKwZxb395tMdn1GAFw2AUgpAdgzi/v7GfUDGB8BSCkB2DP29wNAAI7H00k+k+SlJM8mub7ifdeS/EGS55K8ePLfZ5J8zYr3C0AA6BkBOA7vTPKpJG9KUqUJuk8nuX/Je78lybtO/psk35rkn5O8d8XXFoAA0DMCcByeS/L21sf3Jvlckicv+Pm/kuSfVvydAOyQ9vSuTZ0BWEUADt/VJK8kecvC6x9P8p4Lfo2PJnn/GV9fAHZE+wYPe/oBsIoAHL5H0gTgGxde/1CS913g84/SrB18/Yq/F4AdMZudfrKHAARgFQE4fCUjgL+ZZu3gG875+vXBwUF9eHhYHx4e1sfHx7v+vh4l27sAcJbj4+NXf1cfHBwIwBFYtgbwhZy9BvB3k3wiyeScr20EsCNM/wJwUUYAx+EdST6ZZuuX+5K8O8nNLL8L+N4kH0zyr0m+6QJfWwB2hP39ALgoATgeTyV5PsmXc3ofwEmavQEfPfn4sSQvJ/lqmn0AXzz5+xdXfF0BeInc5QvAJghASgnAS2SaF4BNEICUEoCXSAACsAkCkFICcMva075HR9b5AVBOAFJKAG6ZUT8ANk0AUkoAbsFsVteTSbOf35UrAhCAzRKAlBKAW9Ae9Ztv7GzaF4BNEYCUEoBbsBiARv4A2CQBSCkBuCGLN3vMp4CnUyN/AGyWAKSUANwQN3sAcFkEIKUE4IYIQAAuiwCklADcEM/yBeCyCEBKCcA1eZ4vALsmACklANdkqheAXROAlBKAaxKAAOyaAKSUADzH4pSvtX4A7JoApJQAPIcRPwC6RgBSSgCeQwAC0DUCkFICcIEpXwC6TgBSSgCemM2ax7ft7RnxA6DbBCClBOCJyeR2+AlAALpMAFJq9AE4n+Jtj/wldV1VpnwB6CYBSKlRB+Bs1oTe4sjflSviD4DuEoCUGm0ALou/qnKzBwDdJwApNdoAbG/vYsoXgD4RgJQSgOIPgJ4RgJQaRQDOt3ipqrqeTu3vB0C/CUBKdTYAFzdkLrE43Wt7FwD6TABSqrMBuMlHsAlAAIZEAFJqkAE4m9X1Qw81e/tduVLXTzxxegrYlC8AfSYAKdXZADxrjd5Z08OrtncBgKEQgJTqbACeZdXo4KqNnQUgAEMiACk1mAA866keN27s9HQBYKMEIKV6GYCL08Orpn2t9QNgiAQgpXoZgHPzEBR/AIyJAKRUrwNwOl2+3k/8ATBkApBSvQzA+cjf3t7t8Nvb81QPAMZBAFKqlwG4uLFz0uzzBwBjIAAp1ZsAPDpqpnerqtnkuT3la+QPgDERgJTqTQC2b/TY31+9STQADJ0ApFQvA9DGzgCMmQCkVGcDcPFxb+0pYBs7AzBmApBSnQ3AVY97A4CxE4CU6lQAzmbN3bxV1azzE4AAcCcBSKlOBeDi9i7u8AWAOwlASnUiAFc90s3IHwDcSQBSaucBOJvducVLVTWPeTPyBwB3EoCU2nkALk77GvXbjsW7qgHoLwFIqU4FYFUZ9dsWd1UDDIcApNSlB+DiSFT7Y/G3PQIQYDgEIKUuLQDnGznv7QmRXRDaAMMhACl1aQG4eIevAASAuyMAKbWTANzbMxIFAHdLAFJqawHoWb4AsB0CkFJbC0A3HQDAdghASm08AJc91UMAAsDmCEBKbTwAF/f1s9YPADZLAFKqOADnI37XrjWPcbPNCwBslwCkVHEALj7KzV2+ALBdApBSWwnAqtrgdzkAcIoApNTGp4Bt8wIA2yUAKbVWAC7u7QcAXD4BSKkLB+Bs1ozwzad5p9NL+A4HAO4gACl14QBcXOtnnR8A7IYApNRdB+Bkcgnf4QDAHQQgpc4MwPaav6OjJvqqqpn+tcULAOyGAKTUmQHoeb4A0D0CkFKnAnA2q+uHHmo2ct7fb7Z2EYAA0C0CkFKvBuBsVtdXrpxe53fPPbengE35AkA3CMDxeDrJZ5K8lOTZJNfPeO+DST6Y5EtJvpDkD5O8dsV7ryapf/3Xb516hm/7kW4AQLcIwHF4Z5JPJXlTkirJM0k+neT+Fe//aJK/SPL1Sb4hyV8m+dMV772apE5u3RF/STMFzOU5Pj7e9SlwwrXoFtejO1yLbhCA4/Bckre3Pr43yeeSPLnkvdMkryT59tZrbz557ZEl718agPv77vTdhcPDw12fAidci25xPbrDtegGATh8V9PE21sWXv94kvcsef+PJ/nqktf/O8mPrfj6pwLw3nt3/W09Xn6wdodr0S2uR3e4Ft0gAIfvkTQB+MaF1z+U5H1L3v+zSZ5f8vpnk/zMktdPAvDmSQTeqt/1rlv1rVuOXRwHBwc7PweHa9HFw/XozuFadOO4efOmABy4bY8APpzmG8jhcDgcDkf/jofDYC1bA/hCVq8BfDmn1wB+58lry9YA7qX55rnqcDgcDoejV8fDaX6PM1DvSPLJNFu/3Jfk3UluZvVdwLMkx0lel+ShNHcB/8nWzxIAgI16Ks3avi/n9D6AkzR7Az7aeu+DSf4ozT6AX0zygTT/TwEAAAAAGKJtPUWE9V30WlxL8gdp1n++ePLfZ5J8zdbPcFzW+bcx90CaJRkvJ7lnWyc2Qutei19I8i9pZkU+m+S3t3huY7POtfjuJH+V5vfFC0k+kmYtOuWeSPI3SW7lYj9v/P7mlG0+RYT1rHMtviXJu07+myTfmuSfk7x3+6c5Guv+25h7f5KPRQBu0rrX4teS/EeS701zDe5L8l3bP81RWOda7KV5KMF7k+wn+bokH07yt5dypsP3Q2ki8BdzsZ83fn9zyjafIsJ61rkWy/xKkn/a9EmN2N1cj7cl+fskPxABuEnrXIsH0oxM/cglnNcYrXMtHkzz7+A7Wq/9aJKvbO3sxumtOf/njd/fnHI1291DkItb91os89E0o0+Uu5vr8bo0U7/flov9QOZi1r0WP5zmf/tfTfKJNNO/H0vzy44yd/Pv4ndOjvvSBOEfp7nxkM25yM8bv785ZdtPEeHi1r0Wi47SrMl5/YbPa6zu5np8OMlvnPxZAG7OutfiyZP3/3WSb04zTflbSf4zzeggd+9u/l08luTfkvxvkv9L8o9p1jCzORf5eeP3N6cYAeyOkhHA30yzJucNWzivsVr3evxUkn/I7R/A35/mB/K9Wzq/MVn3Wrzt5P2Pt167J8204w9v4wRHZN1r8YYk/5Pkl5NcSTMK+HSSfz/5M5thBJC7ss2niLCeda7F3O+mmeaabPG8xmqd6/H7adadff7k+FKaX5QvJPm57Z7mKKxzLeajVI8vvF8AbsY61+In0uw12/ZAmuvzPVs5u3G66BpAv785xVNEumOda3Fvmtv5/zXJN13S+Y3NOtfjtWmm3+fHT+b2D1YjHeXW/Tn1kTTbk3xjbt+pejPJa7Z8nmOwzrWYpgnvX0rzM+trk9xIs22J7UfK3ZPm+/vxND9v7j/5eNWj3/z+5g5PxVNEuuKpXOxaPJbmH/xX0+wD+OLJ3794eac6Ck/l4v822qwB3LyncvFr8Zokv5dmr7PPJ/nzNNuWsBlP5eLX4geT/F2aa/FfJ+//vss5zcH7+TSjqS+fHPM/Pxa/vwEAAAAAAAAAAAAAAAAAAAAAAAAAAAAAAAAAAAAAAAAAAAAAAAAAAAAAAAAAAAAAAAAAAAAAAAAAAAAAAAAAAAAAAAAAAAAAAAAAAAAAAAAAAAAAAOiE/wdpEnzSyKL+WwAAAABJRU5ErkJggg==\">"
      ],
      "text/plain": [
       "<IPython.core.display.HTML object>"
      ]
     },
     "metadata": {},
     "output_type": "execute_result"
    }
   ],
   "source": [
    "n_plot = 500\n",
    "remote_df = remote_df.sort_values(by='msm', ascending=False).head(n_plot)\n",
    "reference_df = reference_results.sort_values(by='msm', ascending=False).head(n_plot)\n",
    "\n",
    "_ = sm_annotation_utils.plot_diff(remote_df,\n",
    "                              reference_df,\n",
    "                              t='RB ref vs engine', xlabel='reference', ylabel='local')"
   ]
  }
 ],
 "metadata": {
  "kernelspec": {
   "display_name": "py-sm",
   "language": "python",
   "name": "python2"
  },
  "language_info": {
   "codemirror_mode": {
    "name": "ipython",
    "version": 2.0
   },
   "file_extension": ".py",
   "mimetype": "text/x-python",
   "name": "python",
   "nbconvert_exporter": "python",
   "pygments_lexer": "ipython2",
   "version": "2.7.12"
  },
  "widgets": {
   "state": {},
   "version": "1.1.0"
  }
 },
 "nbformat": 4,
 "nbformat_minor": 0
}