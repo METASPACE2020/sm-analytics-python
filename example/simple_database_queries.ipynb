{
 "cells": [
  {
   "cell_type": "markdown",
   "metadata": {},
   "source": [
    "This notebook provides a simple example of using the API to get the annotations for a dataset and inspect some basic properties about the molecular formula that were annotated."
   ]
  },
  {
   "cell_type": "code",
   "execution_count": 1,
   "metadata": {
    "collapsed": false
   },
   "outputs": [],
   "source": [
    "# External imports\n",
    "%load_ext autoreload\n",
    "%autoreload 2\n",
    "%matplotlib inline\n",
    "import matplotlib.pyplot as plt\n",
    "import pandas as pd\n",
    "import numpy as np\n",
    "from matplotlib_venn import venn2"
   ]
  },
  {
   "cell_type": "code",
   "execution_count": 2,
   "metadata": {
    "collapsed": true
   },
   "outputs": [],
   "source": [
    "# Install from sm-analytics-python https://github.com/METASPACE2020/sm-analytics-python/blob/sm0.6/\n",
    "from sm_annotation_utils.sm_annotation_utils import SMInstance\n",
    "from sm_annotation_utils import sm_annotation_utils"
   ]
  },
  {
   "cell_type": "code",
   "execution_count": 3,
   "metadata": {
    "collapsed": false,
    "scrolled": false
   },
   "outputs": [
    {
     "name": "stdout",
     "output_type": "stream",
     "text": [
      "This dataset has 54 annotations at FDR 10.0%\n"
     ]
    },
    {
     "data": {
      "text/html": [
       "<div>\n",
       "<table border=\"1\" class=\"dataframe\">\n",
       "  <thead>\n",
       "    <tr style=\"text-align: right;\">\n",
       "      <th></th>\n",
       "      <th>mf</th>\n",
       "      <th>adduct</th>\n",
       "    </tr>\n",
       "  </thead>\n",
       "  <tbody>\n",
       "    <tr>\n",
       "      <th>0</th>\n",
       "      <td>C40H80NO8P</td>\n",
       "      <td>+Na</td>\n",
       "    </tr>\n",
       "    <tr>\n",
       "      <th>1</th>\n",
       "      <td>C37H71O8P</td>\n",
       "      <td>+K</td>\n",
       "    </tr>\n",
       "    <tr>\n",
       "      <th>2</th>\n",
       "      <td>C40H80NO8P</td>\n",
       "      <td>+H</td>\n",
       "    </tr>\n",
       "    <tr>\n",
       "      <th>3</th>\n",
       "      <td>C41H82NO8P</td>\n",
       "      <td>+H</td>\n",
       "    </tr>\n",
       "    <tr>\n",
       "      <th>4</th>\n",
       "      <td>C41H83N2O6P</td>\n",
       "      <td>+Na</td>\n",
       "    </tr>\n",
       "  </tbody>\n",
       "</table>\n",
       "</div>"
      ],
      "text/plain": [
       "            mf adduct\n",
       "0   C40H80NO8P    +Na\n",
       "1    C37H71O8P     +K\n",
       "2   C40H80NO8P     +H\n",
       "3   C41H82NO8P     +H\n",
       "4  C41H83N2O6P    +Na"
      ]
     },
     "execution_count": 3,
     "metadata": {},
     "output_type": "execute_result"
    }
   ],
   "source": [
    "# Get annotations for a dataset (by dataset name)\n",
    "ds1_name = \"UoR1//Brain01_Bregma1-42_01\"\n",
    "fdr = 0.1\n",
    "sm = SMInstance()\n",
    "df = pd.DataFrame(sm.dataset(name=ds1_name).annotations(fdr=fdr), columns=['mf', 'adduct'])\n",
    "print \"This dataset has {} annotations at FDR {}%\".format(df.shape[0], fdr*100)\n",
    "df.head()"
   ]
  },
  {
   "cell_type": "code",
   "execution_count": 4,
   "metadata": {
    "collapsed": false
   },
   "outputs": [
    {
     "data": {
      "image/png": "[encoded data removed]",
      "text/plain": [
       "<matplotlib.figure.Figure at 0x107f2cf10>"
      ]
     },
     "metadata": {},
     "output_type": "display_data"
    }
   ],
   "source": [
    "# Show some simple stats on the annotations\n",
    "ax = df['adduct'].value_counts().plot(kind='bar', title='adduct abundance')\n",
    "ax.set_ylabel('Number of annotations')\n",
    "plt.show()"
   ]
  },
  {
   "cell_type": "code",
   "execution_count": 5,
   "metadata": {
    "collapsed": false
   },
   "outputs": [
    {
     "data": {
      "image/png": "[encoded data removed]",
      "text/plain": [
       "<matplotlib.figure.Figure at 0x10a20d6d0>"
      ]
     },
     "metadata": {},
     "output_type": "display_data"
    }
   ],
   "source": [
    "# Compare annotations between two dataset\n",
    "ds2_name = \"UoR1//Brain02_Bregma1-42_01\"\n",
    "plt.figure()\n",
    "venn2([set([a[0] for a in sm.dataset(name=ds1_name).annotations(fdr=fdr)]),\n",
    "       set([a[0] for a in sm.dataset(name=ds2_name).annotations(fdr=fdr)])\n",
    "      ], \n",
    "      set_labels=[ds1_name, ds2_name])\n",
    "plt.show()"
   ]
  }
 ],
 "metadata": {
  "kernelspec": {
   "display_name": "py-sm",
   "language": "python",
   "name": "py-sm"
  },
  "language_info": {
   "codemirror_mode": {
    "name": "ipython",
    "version": 2
   },
   "file_extension": ".py",
   "mimetype": "text/x-python",
   "name": "python",
   "nbconvert_exporter": "python",
   "pygments_lexer": "ipython2",
   "version": "2.7.12"
  },
  "widgets": {
   "state": {},
   "version": "1.1.0"
  }
 },
 "nbformat": 4,
 "nbformat_minor": 0
}
