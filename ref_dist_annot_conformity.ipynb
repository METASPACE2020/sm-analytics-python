{
 "cells": [
  {
   "cell_type": "code",
   "execution_count": 9,
   "metadata": {
    "collapsed": false
   },
   "outputs": [],
   "source": [
    "import plotly.plotly as py\n",
    "import plotly.graph_objs as go\n",
    "from plotly import tools\n",
    "import re\n",
    "import numpy as np\n",
    "import yaml"
   ]
  },
  {
   "cell_type": "code",
   "execution_count": 10,
   "metadata": {
    "collapsed": false
   },
   "outputs": [
    {
     "data": {
      "text/plain": [
       "{'elasticsearch_host': 'localhost',\n",
       " 'plotly_api_key': 'atqkijw50c',\n",
       " 'plotly_user': 'intsco'}"
      ]
     },
     "execution_count": 10,
     "metadata": {},
     "output_type": "execute_result"
    }
   ],
   "source": [
    "config = yaml.load(open('config.yml'))\n",
    "config"
   ]
  },
  {
   "cell_type": "code",
   "execution_count": 12,
   "metadata": {
    "collapsed": false
   },
   "outputs": [],
   "source": [
    "tools.set_credentials_file(username=config['plotly_user'], api_key=config['plotly_api_key'])"
   ]
  },
  {
   "cell_type": "code",
   "execution_count": 13,
   "metadata": {
    "collapsed": true
   },
   "outputs": [],
   "source": [
    "from elasticsearch import Elasticsearch\n",
    "from elasticsearch_dsl import Search, Q\n",
    "\n",
    "client = Elasticsearch(hosts=config['elasticsearch_host'])"
   ]
  },
  {
   "cell_type": "markdown",
   "metadata": {},
   "source": [
    "### SM dist results"
   ]
  },
  {
   "cell_type": "code",
   "execution_count": 579,
   "metadata": {
    "collapsed": false
   },
   "outputs": [],
   "source": [
    "s = (Search(using=client, index=\"sm\") \\\n",
    "    #.filter(\"term\", category=\"search\") \\\n",
    "    #.query(\"match\", ds_name=\"RB_a2s1\"))\n",
    "    .query(\"match\", ds_name=\"Bruker//Rat//Brain//a2s1\"))\n",
    "    #.query(~Q(\"match\", description=\"beta\"))"
   ]
  },
  {
   "cell_type": "code",
   "execution_count": 580,
   "metadata": {
    "collapsed": false
   },
   "outputs": [],
   "source": [
    "#response = s.execute()\n",
    "# r = list(response)[0]\n",
    "response = s.scan()"
   ]
  },
  {
   "cell_type": "code",
   "execution_count": 581,
   "metadata": {
    "collapsed": false
   },
   "outputs": [],
   "source": [
    "dist_df = pd.DataFrame([(r.sf, r.adduct, r.msm, r.chaos, r.image_corr, r.pattern_match) for r in response],\n",
    "                       columns=['sf', 'adduct', 'msm', 'moc', 'spat', 'spec']).set_index(['sf', 'adduct'])"
   ]
  },
  {
   "cell_type": "code",
   "execution_count": 582,
   "metadata": {
    "collapsed": false
   },
   "outputs": [
    {
     "data": {
      "text/plain": [
       "(0, 4)"
      ]
     },
     "execution_count": 582,
     "metadata": {},
     "output_type": "execute_result"
    }
   ],
   "source": [
    "dist_df[dist_df.index.duplicated()].shape"
   ]
  },
  {
   "cell_type": "code",
   "execution_count": 583,
   "metadata": {
    "collapsed": false
   },
   "outputs": [
    {
     "data": {
      "text/html": [
       "<div>\n",
       "<table border=\"1\" class=\"dataframe\">\n",
       "  <thead>\n",
       "    <tr style=\"text-align: right;\">\n",
       "      <th></th>\n",
       "      <th></th>\n",
       "      <th>msm</th>\n",
       "      <th>moc</th>\n",
       "      <th>spat</th>\n",
       "      <th>spec</th>\n",
       "    </tr>\n",
       "    <tr>\n",
       "      <th>sf</th>\n",
       "      <th>adduct</th>\n",
       "      <th></th>\n",
       "      <th></th>\n",
       "      <th></th>\n",
       "      <th></th>\n",
       "    </tr>\n",
       "  </thead>\n",
       "  <tbody>\n",
       "    <tr>\n",
       "      <th>C40H80NO8P</th>\n",
       "      <th>+K</th>\n",
       "      <td>0.959347</td>\n",
       "      <td>0.999239</td>\n",
       "      <td>0.973018</td>\n",
       "      <td>0.986701</td>\n",
       "    </tr>\n",
       "    <tr>\n",
       "      <th>C27H44O</th>\n",
       "      <th>+H</th>\n",
       "      <td>0.956642</td>\n",
       "      <td>0.999265</td>\n",
       "      <td>0.975597</td>\n",
       "      <td>0.981292</td>\n",
       "    </tr>\n",
       "    <tr>\n",
       "      <th>C40H80NO8P</th>\n",
       "      <th>+Na</th>\n",
       "      <td>0.941901</td>\n",
       "      <td>0.999108</td>\n",
       "      <td>0.977463</td>\n",
       "      <td>0.964478</td>\n",
       "    </tr>\n",
       "    <tr>\n",
       "      <th>C44H86NO8P</th>\n",
       "      <th>+Na</th>\n",
       "      <td>0.918834</td>\n",
       "      <td>0.999335</td>\n",
       "      <td>0.935765</td>\n",
       "      <td>0.982560</td>\n",
       "    </tr>\n",
       "    <tr>\n",
       "      <th>C41H83N2O6P</th>\n",
       "      <th>+K</th>\n",
       "      <td>0.899275</td>\n",
       "      <td>0.999328</td>\n",
       "      <td>0.918035</td>\n",
       "      <td>0.980223</td>\n",
       "    </tr>\n",
       "  </tbody>\n",
       "</table>\n",
       "</div>"
      ],
      "text/plain": [
       "                         msm       moc      spat      spec\n",
       "sf          adduct                                        \n",
       "C40H80NO8P  +K      0.959347  0.999239  0.973018  0.986701\n",
       "C27H44O     +H      0.956642  0.999265  0.975597  0.981292\n",
       "C40H80NO8P  +Na     0.941901  0.999108  0.977463  0.964478\n",
       "C44H86NO8P  +Na     0.918834  0.999335  0.935765  0.982560\n",
       "C41H83N2O6P +K      0.899275  0.999328  0.918035  0.980223"
      ]
     },
     "execution_count": 583,
     "metadata": {},
     "output_type": "execute_result"
    }
   ],
   "source": [
    "dist_df.head()"
   ]
  },
  {
   "cell_type": "code",
   "execution_count": 558,
   "metadata": {
    "collapsed": true
   },
   "outputs": [],
   "source": [
    "#dist_df = pd.read_csv('sm_dist_msm.csv').set_index(['sf', 'adduct']).drop(['formula_db', 'ds_name'], axis=1)"
   ]
  },
  {
   "cell_type": "code",
   "execution_count": 559,
   "metadata": {
    "collapsed": false
   },
   "outputs": [],
   "source": [
    "#dist_df.head()"
   ]
  },
  {
   "cell_type": "markdown",
   "metadata": {},
   "source": [
    "### Ref pipeline results"
   ]
  },
  {
   "cell_type": "code",
   "execution_count": 584,
   "metadata": {
    "collapsed": false
   },
   "outputs": [
    {
     "data": {
      "text/plain": [
       "u'/home/intsco/embl/tmp/rb_a2s1_debug'"
      ]
     },
     "execution_count": 584,
     "metadata": {},
     "output_type": "execute_result"
    }
   ],
   "source": [
    "pwd"
   ]
  },
  {
   "cell_type": "code",
   "execution_count": 585,
   "metadata": {
    "collapsed": false
   },
   "outputs": [],
   "source": [
    "ref_df = pd.read_csv('RB_a2s1_spatial_all_adducts_full_results.txt').dropna()\n",
    "ref_df = ref_df[ref_df.adduct.isin(['+H', '+Na', '+K'])].set_index(['sf', 'adduct'])"
   ]
  },
  {
   "cell_type": "code",
   "execution_count": 586,
   "metadata": {
    "collapsed": false
   },
   "outputs": [
    {
     "data": {
      "text/html": [
       "<div>\n",
       "<table border=\"1\" class=\"dataframe\">\n",
       "  <thead>\n",
       "    <tr style=\"text-align: right;\">\n",
       "      <th></th>\n",
       "      <th></th>\n",
       "      <th>mz</th>\n",
       "      <th>moc</th>\n",
       "      <th>spat</th>\n",
       "      <th>spec</th>\n",
       "      <th>msm</th>\n",
       "    </tr>\n",
       "    <tr>\n",
       "      <th>sf</th>\n",
       "      <th>adduct</th>\n",
       "      <th></th>\n",
       "      <th></th>\n",
       "      <th></th>\n",
       "      <th></th>\n",
       "      <th></th>\n",
       "    </tr>\n",
       "  </thead>\n",
       "  <tbody>\n",
       "    <tr>\n",
       "      <th rowspan=\"3\" valign=\"top\">C12H18O8</th>\n",
       "      <th>+K</th>\n",
       "      <td>329.063346</td>\n",
       "      <td>0.996271</td>\n",
       "      <td>0.037435</td>\n",
       "      <td>0.967960</td>\n",
       "      <td>0.036101</td>\n",
       "    </tr>\n",
       "    <tr>\n",
       "      <th>+H</th>\n",
       "      <td>291.107447</td>\n",
       "      <td>0.990395</td>\n",
       "      <td>0.000000</td>\n",
       "      <td>0.965248</td>\n",
       "      <td>0.000000</td>\n",
       "    </tr>\n",
       "    <tr>\n",
       "      <th>+Na</th>\n",
       "      <td>313.089418</td>\n",
       "      <td>0.996748</td>\n",
       "      <td>0.000000</td>\n",
       "      <td>0.964289</td>\n",
       "      <td>0.000000</td>\n",
       "    </tr>\n",
       "    <tr>\n",
       "      <th rowspan=\"2\" valign=\"top\">C12H18O9</th>\n",
       "      <th>+K</th>\n",
       "      <td>345.058243</td>\n",
       "      <td>0.998403</td>\n",
       "      <td>0.038135</td>\n",
       "      <td>0.957136</td>\n",
       "      <td>0.036442</td>\n",
       "    </tr>\n",
       "    <tr>\n",
       "      <th>+H</th>\n",
       "      <td>307.102382</td>\n",
       "      <td>0.995199</td>\n",
       "      <td>0.036683</td>\n",
       "      <td>0.959727</td>\n",
       "      <td>0.035037</td>\n",
       "    </tr>\n",
       "  </tbody>\n",
       "</table>\n",
       "</div>"
      ],
      "text/plain": [
       "                         mz       moc      spat      spec       msm\n",
       "sf       adduct                                                    \n",
       "C12H18O8 +K      329.063346  0.996271  0.037435  0.967960  0.036101\n",
       "         +H      291.107447  0.990395  0.000000  0.965248  0.000000\n",
       "         +Na     313.089418  0.996748  0.000000  0.964289  0.000000\n",
       "C12H18O9 +K      345.058243  0.998403  0.038135  0.957136  0.036442\n",
       "         +H      307.102382  0.995199  0.036683  0.959727  0.035037"
      ]
     },
     "execution_count": 586,
     "metadata": {},
     "output_type": "execute_result"
    }
   ],
   "source": [
    "ref_df.head()"
   ]
  },
  {
   "cell_type": "code",
   "execution_count": 587,
   "metadata": {
    "collapsed": false
   },
   "outputs": [
    {
     "data": {
      "text/html": [
       "<div>\n",
       "<table border=\"1\" class=\"dataframe\">\n",
       "  <thead>\n",
       "    <tr style=\"text-align: right;\">\n",
       "      <th></th>\n",
       "      <th></th>\n",
       "      <th>mz</th>\n",
       "      <th>moc</th>\n",
       "      <th>spat</th>\n",
       "      <th>spec</th>\n",
       "      <th>msm</th>\n",
       "    </tr>\n",
       "    <tr>\n",
       "      <th>sf</th>\n",
       "      <th>adduct</th>\n",
       "      <th></th>\n",
       "      <th></th>\n",
       "      <th></th>\n",
       "      <th></th>\n",
       "      <th></th>\n",
       "    </tr>\n",
       "  </thead>\n",
       "  <tbody>\n",
       "  </tbody>\n",
       "</table>\n",
       "</div>"
      ],
      "text/plain": [
       "Empty DataFrame\n",
       "Columns: [mz, moc, spat, spec, msm]\n",
       "Index: []"
      ]
     },
     "execution_count": 587,
     "metadata": {},
     "output_type": "execute_result"
    }
   ],
   "source": [
    "ref_df[ref_df.index.duplicated()]"
   ]
  },
  {
   "cell_type": "code",
   "execution_count": 590,
   "metadata": {
    "collapsed": false
   },
   "outputs": [
    {
     "data": {
      "text/html": [
       "<div>\n",
       "<table border=\"1\" class=\"dataframe\">\n",
       "  <thead>\n",
       "    <tr style=\"text-align: right;\">\n",
       "      <th></th>\n",
       "      <th></th>\n",
       "      <th>mz</th>\n",
       "      <th>moc</th>\n",
       "      <th>spat</th>\n",
       "      <th>spec</th>\n",
       "      <th>msm</th>\n",
       "    </tr>\n",
       "    <tr>\n",
       "      <th>sf</th>\n",
       "      <th>adduct</th>\n",
       "      <th></th>\n",
       "      <th></th>\n",
       "      <th></th>\n",
       "      <th></th>\n",
       "      <th></th>\n",
       "    </tr>\n",
       "  </thead>\n",
       "  <tbody>\n",
       "    <tr>\n",
       "      <th rowspan=\"2\" valign=\"top\">C9H17N4O9P</th>\n",
       "      <th>+K</th>\n",
       "      <td>395.036494</td>\n",
       "      <td>0.991296</td>\n",
       "      <td>0.000000</td>\n",
       "      <td>0.973450</td>\n",
       "      <td>0.000000</td>\n",
       "    </tr>\n",
       "    <tr>\n",
       "      <th>+Na</th>\n",
       "      <td>379.062553</td>\n",
       "      <td>0.994760</td>\n",
       "      <td>0.027157</td>\n",
       "      <td>0.974596</td>\n",
       "      <td>0.026328</td>\n",
       "    </tr>\n",
       "    <tr>\n",
       "      <th rowspan=\"3\" valign=\"top\">C17H15NO</th>\n",
       "      <th>+K</th>\n",
       "      <td>288.078538</td>\n",
       "      <td>0.986694</td>\n",
       "      <td>0.009046</td>\n",
       "      <td>0.944659</td>\n",
       "      <td>0.008432</td>\n",
       "    </tr>\n",
       "    <tr>\n",
       "      <th>+H</th>\n",
       "      <td>250.122653</td>\n",
       "      <td>0.991016</td>\n",
       "      <td>0.000000</td>\n",
       "      <td>0.942523</td>\n",
       "      <td>0.000000</td>\n",
       "    </tr>\n",
       "    <tr>\n",
       "      <th>+Na</th>\n",
       "      <td>272.104605</td>\n",
       "      <td>0.993179</td>\n",
       "      <td>0.000000</td>\n",
       "      <td>0.952641</td>\n",
       "      <td>0.000000</td>\n",
       "    </tr>\n",
       "  </tbody>\n",
       "</table>\n",
       "</div>"
      ],
      "text/plain": [
       "                           mz       moc      spat      spec       msm\n",
       "sf         adduct                                                    \n",
       "C9H17N4O9P +K      395.036494  0.991296  0.000000  0.973450  0.000000\n",
       "           +Na     379.062553  0.994760  0.027157  0.974596  0.026328\n",
       "C17H15NO   +K      288.078538  0.986694  0.009046  0.944659  0.008432\n",
       "           +H      250.122653  0.991016  0.000000  0.942523  0.000000\n",
       "           +Na     272.104605  0.993179  0.000000  0.952641  0.000000"
      ]
     },
     "execution_count": 590,
     "metadata": {},
     "output_type": "execute_result"
    }
   ],
   "source": [
    "ref_df.tail()"
   ]
  },
  {
   "cell_type": "markdown",
   "metadata": {},
   "source": [
    "### Plotting"
   ]
  },
  {
   "cell_type": "code",
   "execution_count": 595,
   "metadata": {
    "collapsed": false
   },
   "outputs": [
    {
     "data": {
      "text/plain": [
       "(15408, 9)"
      ]
     },
     "execution_count": 595,
     "metadata": {},
     "output_type": "execute_result"
    }
   ],
   "source": [
    "plot_df = dist_df.join(ref_df, rsuffix='_ref', how='inner').dropna()\n",
    "plot_df.shape"
   ]
  },
  {
   "cell_type": "code",
   "execution_count": 601,
   "metadata": {
    "collapsed": false
   },
   "outputs": [
    {
     "data": {
      "text/html": [
       "<div>\n",
       "<table border=\"1\" class=\"dataframe\">\n",
       "  <thead>\n",
       "    <tr style=\"text-align: right;\">\n",
       "      <th></th>\n",
       "      <th></th>\n",
       "      <th>msm</th>\n",
       "      <th>moc</th>\n",
       "      <th>spat</th>\n",
       "      <th>spec</th>\n",
       "      <th>mz</th>\n",
       "      <th>moc_ref</th>\n",
       "      <th>spat_ref</th>\n",
       "      <th>spec_ref</th>\n",
       "      <th>msm_ref</th>\n",
       "    </tr>\n",
       "    <tr>\n",
       "      <th>sf</th>\n",
       "      <th>adduct</th>\n",
       "      <th></th>\n",
       "      <th></th>\n",
       "      <th></th>\n",
       "      <th></th>\n",
       "      <th></th>\n",
       "      <th></th>\n",
       "      <th></th>\n",
       "      <th></th>\n",
       "      <th></th>\n",
       "    </tr>\n",
       "  </thead>\n",
       "  <tbody>\n",
       "    <tr>\n",
       "      <th rowspan=\"2\" valign=\"top\">C102H170N2O22P2</th>\n",
       "      <th>+H</th>\n",
       "      <td>0.071172</td>\n",
       "      <td>0.989494</td>\n",
       "      <td>0.094174</td>\n",
       "      <td>0.763770</td>\n",
       "      <td>1839.182540</td>\n",
       "      <td>0.984320</td>\n",
       "      <td>0.166277</td>\n",
       "      <td>0.669270</td>\n",
       "      <td>0.109539</td>\n",
       "    </tr>\n",
       "    <tr>\n",
       "      <th>+Na</th>\n",
       "      <td>0.169180</td>\n",
       "      <td>0.980158</td>\n",
       "      <td>0.216761</td>\n",
       "      <td>0.796288</td>\n",
       "      <td>1861.164463</td>\n",
       "      <td>0.989823</td>\n",
       "      <td>0.075237</td>\n",
       "      <td>0.674998</td>\n",
       "      <td>0.050268</td>\n",
       "    </tr>\n",
       "    <tr>\n",
       "      <th>C10Cl10O</th>\n",
       "      <th>+H</th>\n",
       "      <td>0.000000</td>\n",
       "      <td>0.000000</td>\n",
       "      <td>0.000000</td>\n",
       "      <td>0.000000</td>\n",
       "      <td>490.684687</td>\n",
       "      <td>0.997411</td>\n",
       "      <td>0.000000</td>\n",
       "      <td>0.599449</td>\n",
       "      <td>0.000000</td>\n",
       "    </tr>\n",
       "    <tr>\n",
       "      <th>C10Cl12</th>\n",
       "      <th>+H</th>\n",
       "      <td>0.000000</td>\n",
       "      <td>0.000000</td>\n",
       "      <td>0.000000</td>\n",
       "      <td>0.000000</td>\n",
       "      <td>546.624660</td>\n",
       "      <td>0.996009</td>\n",
       "      <td>0.000000</td>\n",
       "      <td>0.579306</td>\n",
       "      <td>0.000000</td>\n",
       "    </tr>\n",
       "    <tr>\n",
       "      <th>C10H10N2O</th>\n",
       "      <th>+K</th>\n",
       "      <td>0.000000</td>\n",
       "      <td>0.000000</td>\n",
       "      <td>0.000000</td>\n",
       "      <td>0.000000</td>\n",
       "      <td>213.042476</td>\n",
       "      <td>0.988157</td>\n",
       "      <td>0.003408</td>\n",
       "      <td>0.973550</td>\n",
       "      <td>0.003279</td>\n",
       "    </tr>\n",
       "  </tbody>\n",
       "</table>\n",
       "</div>"
      ],
      "text/plain": [
       "                             msm       moc      spat      spec           mz   moc_ref  spat_ref  spec_ref   msm_ref\n",
       "sf              adduct                                                                                             \n",
       "C102H170N2O22P2 +H      0.071172  0.989494  0.094174  0.763770  1839.182540  0.984320  0.166277  0.669270  0.109539\n",
       "                +Na     0.169180  0.980158  0.216761  0.796288  1861.164463  0.989823  0.075237  0.674998  0.050268\n",
       "C10Cl10O        +H      0.000000  0.000000  0.000000  0.000000   490.684687  0.997411  0.000000  0.599449  0.000000\n",
       "C10Cl12         +H      0.000000  0.000000  0.000000  0.000000   546.624660  0.996009  0.000000  0.579306  0.000000\n",
       "C10H10N2O       +K      0.000000  0.000000  0.000000  0.000000   213.042476  0.988157  0.003408  0.973550  0.003279"
      ]
     },
     "execution_count": 601,
     "metadata": {},
     "output_type": "execute_result"
    }
   ],
   "source": [
    "plot_df.head()"
   ]
  },
  {
   "cell_type": "code",
   "execution_count": 602,
   "metadata": {
    "collapsed": false
   },
   "outputs": [
    {
     "data": {
      "text/html": [
       "<iframe id=\"igraph\" scrolling=\"no\" style=\"border:none;\" seamless=\"seamless\" src=\"https://plot.ly/~intsco/60.embed\" height=\"800px\" width=\"800px\"></iframe>"
      ],
      "text/plain": [
       "<plotly.tools.PlotlyDisplay object>"
      ]
     },
     "execution_count": 602,
     "metadata": {},
     "output_type": "execute_result"
    }
   ],
   "source": [
    "text_tmpl = '{}{}<br>Ref pipe: moc={:.3f} spat={:.3f} spec={:.3f}<br>SM dist: moc={:.3f} spat={:.3f} spec={:.3f}'\n",
    "\n",
    "plot_df_H = plot_df.xs('+H', level='adduct')\n",
    "text_H = plot_df_H.reset_index().apply(lambda r: text_tmpl.format(\n",
    "        r.sf, '+H', r.moc, r.spat, r.spec, r.moc_ref, r.spat_ref, r.spec_ref), axis=1)\n",
    "\n",
    "plot_df_K = plot_df.xs('+K', level='adduct')\n",
    "text_K = plot_df_K.reset_index().apply(lambda r: text_tmpl.format(\n",
    "        r.sf, '+K', r.moc, r.spat, r.spec, r.moc_ref, r.spat_ref, r.spec_ref), axis=1)\n",
    "\n",
    "traceH = go.Scatter(\n",
    "    x = plot_df_H['msm'],\n",
    "    y = plot_df_H['msm_ref'],\n",
    "    text = text_H,\n",
    "    mode = 'markers',\n",
    "    name = '+H'\n",
    ")\n",
    "traceK = go.Scatter(\n",
    "    x = plot_df_K['msm'],\n",
    "    y = plot_df_K['msm_ref'],\n",
    "    text = text_K,\n",
    "    mode = 'markers',\n",
    "    name = '+K'\n",
    ")\n",
    "\n",
    "data = go.Data([traceH, traceK])\n",
    "fig = Figure(data=data, layout = go.Layout(\n",
    "    autosize=False,\n",
    "    height=800,\n",
    "    hovermode='closest',\n",
    "    title='MSM values',\n",
    "    width=800,\n",
    "    xaxis=XAxis(\n",
    "        autorange=True,\n",
    "        range=[-0.05675070028979684, 1.0323925590539844],\n",
    "        title='Reference MSM values',\n",
    "        type='linear'\n",
    "    ),\n",
    "    yaxis=YAxis(\n",
    "        autorange=True,\n",
    "        range=[-0.0015978995361995152, 1.0312345837176764],\n",
    "        title='SM engine MSM values',\n",
    "        type='linear'\n",
    "    )\n",
    "))\n",
    "py.iplot(fig, filename='ref_dist_msm_scatter')"
   ]
  },
  {
   "cell_type": "code",
   "execution_count": 603,
   "metadata": {
    "collapsed": false
   },
   "outputs": [
    {
     "data": {
      "text/plain": [
       "array([[ 1.        ,  0.87062926],\n",
       "       [ 0.87062926,  1.        ]])"
      ]
     },
     "execution_count": 603,
     "metadata": {},
     "output_type": "execute_result"
    }
   ],
   "source": [
    "tmp_df = plot_df.dropna()\n",
    "np.corrcoef(tmp_df['msm'].values, tmp_df['msm_ref'].values)"
   ]
  }
 ],
 "metadata": {
  "kernelspec": {
   "display_name": "Python 2",
   "language": "python",
   "name": "python2"
  },
  "language_info": {
   "codemirror_mode": {
    "name": "ipython",
    "version": 2
   },
   "file_extension": ".py",
   "mimetype": "text/x-python",
   "name": "python",
   "nbconvert_exporter": "python",
   "pygments_lexer": "ipython2",
   "version": "2.7.6"
  }
 },
 "nbformat": 4,
 "nbformat_minor": 0
}
